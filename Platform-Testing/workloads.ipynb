{
 "cells": [
  {
   "cell_type": "code",
   "execution_count": 3,
   "metadata": {},
   "outputs": [],
   "source": [
    "%matplotlib inline\n",
    "from numpy import random\n",
    "import matplotlib.pyplot as plt\n",
    "import seaborn as sns\n",
    "import numpy as np\n",
    "from scipy import stats"
   ]
  },
  {
   "cell_type": "code",
   "execution_count": 4,
   "metadata": {},
   "outputs": [
    {
     "data": {
      "image/png": "[encoded data removed]",
      "text/plain": [
       "<Figure size 432x288 with 1 Axes>"
      ]
     },
     "metadata": {
      "needs_background": "light"
     },
     "output_type": "display_data"
    }
   ],
   "source": [
    "from scipy import stats\n",
    "import matplotlib.pyplot as plt\n",
    "\n",
    "\n",
    "X=range(120)\n",
    "Y=[]\n",
    "for k in X:\n",
    "    p = stats.poisson.pmf(k, 20)*1000\n",
    "    Y.append(p)\n",
    "\n",
    "\n",
    "X1 = range(120,240)\n",
    "Y1 = []\n",
    "for k in X1:\n",
    "    p = stats.poisson.pmf(k, 120+40)*1000\n",
    "    Y1.append(p)\n",
    " \n",
    "X2 = range(240,360)\n",
    "Y2 = []\n",
    "for k in X2:\n",
    "    p = stats.poisson.pmf(k, 240+60)*1000\n",
    "    Y2.append(p)\n",
    "\n",
    "x = np.concatenate((X,X1,X2))\n",
    "y = np.concatenate((Y,Y1,Y2))\n",
    "\n",
    "plt.bar(x, y)\n",
    "plt.show()"
   ]
  },
  {
   "cell_type": "code",
   "execution_count": 5,
   "metadata": {},
   "outputs": [
    {
     "data": {
      "image/png": "[encoded data removed]",
      "text/plain": [
       "<Figure size 1584x180 with 3 Axes>"
      ]
     },
     "metadata": {
      "needs_background": "light"
     },
     "output_type": "display_data"
    }
   ],
   "source": [
    "r1 =list(range(0,20)) \n",
    "r2= list(range(120,160))\n",
    "r3 = list(range(240,300))\n",
    "\n",
    "reverse = np.concatenate((r1,r2,r3))\n",
    "y_burst = y.copy()\n",
    "y_burst_reverse = y.copy()\n",
    "for i in reverse:\n",
    "    y_burst[i] = 0\n",
    "\n",
    "for i in range(360):\n",
    "    if i not in reverse:\n",
    "        y_burst_reverse[i] = 0\n",
    "\n",
    "f, (ax1, ax2,ax3) = plt.subplots(1,3,figsize=(22, 2.5))\n",
    "\n",
    "ax1.bar(x=x,height=y)\n",
    "ax2.bar(x=x,height=y_burst)\n",
    "ax3.bar(x=x,height=y_burst_reverse)\n",
    "\n",
    "plt.show()  "
   ]
  },
  {
   "cell_type": "code",
   "execution_count": 6,
   "metadata": {},
   "outputs": [],
   "source": [
    "def workload_generator(triffic=30, times=200):\n",
    "    X = range(triffic)\n",
    "    Y = []\n",
    "    X1 = range(triffic, 2*triffic)\n",
    "    Y1 = []\n",
    "    X2 = range(2*triffic, 3*triffic)\n",
    "    Y2 = []\n",
    "    for k in X:\n",
    "        p = stats.poisson.pmf(k, int(triffic/5)) * times\n",
    "        Y.append(p)\n",
    "\n",
    "    for k in X1:\n",
    "        p = stats.poisson.pmf(k, int(triffic+triffic/4)) * times\n",
    "        Y1.append(p)\n",
    "\n",
    "    for k in X2:\n",
    "        p = stats.poisson.pmf(k, int(2*triffic + triffic/2)) * times\n",
    "        Y2.append(p)\n",
    "\n",
    "    x = np.concatenate((X, X1, X2))\n",
    "    y = np.concatenate((Y, Y, Y))\n",
    "    y = list(np.floor(y))\n",
    "\n",
    "    r1 = range(6, 20)\n",
    "    r3 = range(60, 66)\n",
    "\n",
    "    for i in r1:\n",
    "        y[i] = 0\n",
    "    for i in r3:\n",
    "        y[i] = 0\n",
    "\n",
    "    return x, y\n"
   ]
  },
  {
   "cell_type": "code",
   "execution_count": 7,
   "metadata": {},
   "outputs": [
    {
     "data": {
      "image/png": "[encoded data removed]",
      "text/plain": [
       "<Figure size 1584x180 with 3 Axes>"
      ]
     },
     "metadata": {
      "needs_background": "light"
     },
     "output_type": "display_data"
    }
   ],
   "source": [
    "x, y= workload_generator(30, 200)\n",
    "f, (ax1, ax2, ax3) = plt.subplots(1, 3, figsize=(22, 2.5))\n",
    "\n",
    "ax1.bar(x=x, height=y)\n",
    "\n",
    "plt.show()"
   ]
  },
  {
   "cell_type": "code",
   "execution_count": 23,
   "metadata": {},
   "outputs": [
    {
     "data": {
      "text/plain": [
       "range(75, 90)"
      ]
     },
     "execution_count": 23,
     "metadata": {},
     "output_type": "execute_result"
    }
   ],
   "source": [
    "triffic=30\n",
    "times=200\n",
    "\n",
    "\n",
    "X = range(triffic)\n",
    "Y = []\n",
    "X1 = range(triffic, 2*triffic)\n",
    "Y1 = []\n",
    "X2 = range(2*triffic, 3*triffic)\n",
    "Y2 = []\n",
    "for k in X:\n",
    "    p = stats.poisson.pmf(k, int(triffic/5)) * times\n",
    "    Y.append(p)\n",
    "\n",
    "for k in X1:\n",
    "    p = stats.poisson.pmf(k, int(triffic+triffic/4)) * times\n",
    "    Y1.append(p)\n",
    "\n",
    "for k in X2:\n",
    "    p = stats.poisson.pmf(k, int(2*triffic + triffic/2)) * times\n",
    "    Y2.append(p)\n",
    "\n",
    "x = np.concatenate((X, X1, X2))\n",
    "y = np.concatenate((Y, Y, Y))\n",
    "y = list(np.floor(y))\n",
    "\n",
    "r1 =range(0,int(triffic/2))\n",
    "r3 = range(int(2*triffic + triffic/2),3*triffic)\n",
    "r3 \n"
   ]
  },
  {
   "cell_type": "code",
   "execution_count": null,
   "metadata": {},
   "outputs": [],
   "source": []
  }
 ],
 "metadata": {
  "interpreter": {
   "hash": "9aab921455daf93c5b5e512768862be38eb2d6dcc418fdb7d8b034605503ac32"
  },
  "kernelspec": {
   "display_name": "Python 3.8.8 64-bit ('base': conda)",
   "name": "python3"
  },
  "language_info": {
   "codemirror_mode": {
    "name": "ipython",
    "version": 3
   },
   "file_extension": ".py",
   "mimetype": "text/x-python",
   "name": "python",
   "nbconvert_exporter": "python",
   "pygments_lexer": "ipython3",
   "version": "3.8.8"
  },
  "orig_nbformat": 4
 },
 "nbformat": 4,
 "nbformat_minor": 2
}
