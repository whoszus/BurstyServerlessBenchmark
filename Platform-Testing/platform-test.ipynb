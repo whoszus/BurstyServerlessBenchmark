{
 "cells": [
  {
   "cell_type": "code",
   "execution_count": 2,
   "source": [
    "import os,yaml"
   ],
   "outputs": [],
   "metadata": {}
  },
  {
   "cell_type": "code",
   "execution_count": 3,
   "source": [
    "with open(\"../DIC/envs/actions.yaml\", 'r') as stream:\n",
    "        data_loaded = yaml.safe_load(stream)\n",
    "        lf_action = data_loaded.get(\"webservices\")\n",
    "        mf_action = data_loaded.get(\"MlI\")\n",
    "        bd_action = data_loaded.get(\"Big-Data\")\n",
    "        stream_action = data_loaded.get(\"Stream\")"
   ],
   "outputs": [],
   "metadata": {}
  },
  {
   "cell_type": "code",
   "execution_count": 7,
   "source": [
    "actions = []\n",
    "for action_name, params in lf_action.items():\n",
    "    actions.append(action_name)\n",
    "\n",
    "for action_name, params in mf_action.items():\n",
    "    actions.append(action_name)\n",
    "\n",
    "for action_name, params in bd_action.items():\n",
    "    actions.append(action_name)\n",
    "\n",
    "for action_name, params in stream_action.items():\n",
    "    actions.append(action_name)\n",
    "\n",
    "actions"
   ],
   "outputs": [
    {
     "output_type": "execute_result",
     "data": {
      "text/plain": [
       "['hello-python',\n",
       " 'hash-python',\n",
       " 'cryptography-python',\n",
       " 'md5-python',\n",
       " 'sort-python',\n",
       " 'facerecognition-general',\n",
       " 'multinomialnb-general',\n",
       " 'passiveaggressiveclassifier-general',\n",
       " 'perceptron-general',\n",
       " 'randomforestregressor-general',\n",
       " 'sgdclassifier-general',\n",
       " 'sgdregressor-general',\n",
       " 'svr-general',\n",
       " 'bigdata',\n",
       " 'stream']"
      ]
     },
     "metadata": {},
     "execution_count": 7
    }
   ],
   "metadata": {}
  },
  {
   "cell_type": "code",
   "execution_count": null,
   "source": [],
   "outputs": [],
   "metadata": {}
  }
 ],
 "metadata": {
  "orig_nbformat": 4,
  "language_info": {
   "name": "python",
   "version": "3.8.8",
   "mimetype": "text/x-python",
   "codemirror_mode": {
    "name": "ipython",
    "version": 3
   },
   "pygments_lexer": "ipython3",
   "nbconvert_exporter": "python",
   "file_extension": ".py"
  },
  "kernelspec": {
   "name": "python3",
   "display_name": "Python 3.8.8 64-bit ('base': conda)"
  },
  "interpreter": {
   "hash": "8e46d83cdd6d365178e8ff0fba2ae995d7e96999132268096fc7b2b82961bdeb"
  }
 },
 "nbformat": 4,
 "nbformat_minor": 2
}